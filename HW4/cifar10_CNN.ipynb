{
  "cells": [
    {
      "cell_type": "markdown",
      "source": [
        "# 函式 Import"
      ],
      "metadata": {
        "id": "c6WwkpH3kOmq"
      }
    },
    {
      "cell_type": "code",
      "execution_count": 1,
      "metadata": {
        "id": "JlDcHX0FZro_"
      },
      "outputs": [],
      "source": [
        "import numpy as np\n",
        "\n",
        "from keras.models import Sequential, load_model\n",
        "from keras.datasets import cifar10\n",
        "from keras.utils import np_utils\n",
        "from keras.layers import Dense, Dropout, Flatten, Conv2D, MaxPool2D"
      ]
    },
    {
      "cell_type": "markdown",
      "source": [
        "# Cifar 10 資料輸入"
      ],
      "metadata": {
        "id": "-rJXDtxukY55"
      }
    },
    {
      "cell_type": "code",
      "execution_count": 2,
      "metadata": {
        "id": "nkbTolBpm3DA"
      },
      "outputs": [],
      "source": [
        "# X: 資料圖片 Y: one-hot label\n",
        "# 分成訓練 / 測試集\n",
        "(X_train, Y_train), (X_test, Y_test) = cifar10.load_data()\n",
        "x_train = X_train.astype('float32')/255\n",
        "x_test = X_test.astype('float32')/255\n",
        "# np_utils 將標籤轉成 one-hot vector\n",
        "y_train = np_utils.to_categorical(Y_train)\n",
        "y_test = np_utils.to_categorical(Y_test)"
      ]
    },
    {
      "cell_type": "markdown",
      "source": [
        "# 建立 Model"
      ],
      "metadata": {
        "id": "N3G1tnzpkeEK"
      }
    },
    {
      "cell_type": "code",
      "execution_count": 3,
      "metadata": {
        "id": "RaW_ODZEvuz6"
      },
      "outputs": [],
      "source": [
        "# model 的部分\n",
        "model = Sequential()\n",
        "# 捲積層\n",
        "model.add(Conv2D(filters = 8, kernel_size = 3, input_shape = X_train.shape[1:], activation = 'relu', padding = 'same'))\n",
        "# 池化層\n",
        "model.add(MaxPool2D(pool_size=2))\n",
        "# 攤平成一維輸入\n",
        "model.add(Flatten())\n",
        "# 用 Dense 當輸入層\n",
        "model.add(Dense(512, activation='relu'))\n",
        "# 去掉一些 node (防止overfitting.....之類的?)\n",
        "model.add(Dropout(rate=0.25))\n",
        "# 用 Dense 當輸出層\n",
        "model.add(Dense(10, activation='softmax'))"
      ]
    },
    {
      "cell_type": "markdown",
      "source": [
        "# 訓練 Model"
      ],
      "metadata": {
        "id": "Vt04aY_Lkiu3"
      }
    },
    {
      "cell_type": "code",
      "execution_count": 4,
      "metadata": {
        "colab": {
          "base_uri": "https://localhost:8080/"
        },
        "id": "24LsGN6-vzSS",
        "outputId": "68061be2-b21d-4c68-dcdc-cd943566ddbd"
      },
      "outputs": [
        {
          "output_type": "stream",
          "name": "stdout",
          "text": [
            "Epoch 1/10\n",
            "782/782 [==============================] - 6s 6ms/step - loss: 1.5754 - accuracy: 0.4328\n",
            "Epoch 2/10\n",
            "782/782 [==============================] - 5s 6ms/step - loss: 1.2927 - accuracy: 0.5415\n",
            "Epoch 3/10\n",
            "782/782 [==============================] - 5s 6ms/step - loss: 1.1754 - accuracy: 0.5802\n",
            "Epoch 4/10\n",
            "782/782 [==============================] - 5s 6ms/step - loss: 1.0926 - accuracy: 0.6117\n",
            "Epoch 5/10\n",
            "782/782 [==============================] - 5s 6ms/step - loss: 1.0241 - accuracy: 0.6364\n",
            "Epoch 6/10\n",
            "782/782 [==============================] - 5s 6ms/step - loss: 0.9559 - accuracy: 0.6650\n",
            "Epoch 7/10\n",
            "782/782 [==============================] - 5s 6ms/step - loss: 0.8981 - accuracy: 0.6821\n",
            "Epoch 8/10\n",
            "782/782 [==============================] - 5s 6ms/step - loss: 0.8436 - accuracy: 0.7022\n",
            "Epoch 9/10\n",
            "782/782 [==============================] - 5s 6ms/step - loss: 0.7907 - accuracy: 0.7203\n",
            "Epoch 10/10\n",
            "782/782 [==============================] - 5s 6ms/step - loss: 0.7444 - accuracy: 0.7365\n"
          ]
        },
        {
          "output_type": "execute_result",
          "data": {
            "text/plain": [
              "<keras.callbacks.History at 0x7fc76092b490>"
            ]
          },
          "metadata": {},
          "execution_count": 4
        }
      ],
      "source": [
        "# 訓練 model\n",
        "model.compile(loss='categorical_crossentropy', optimizer='adam', metrics=['accuracy'])\n",
        "model.fit(x_train, y_train, epochs=10, batch_size=64, verbose=1)"
      ]
    },
    {
      "cell_type": "markdown",
      "source": [
        "# 訓練結果"
      ],
      "metadata": {
        "id": "HrfFZQ17klvR"
      }
    },
    {
      "cell_type": "code",
      "execution_count": 5,
      "metadata": {
        "colab": {
          "base_uri": "https://localhost:8080/"
        },
        "id": "o6AC7XiXv0VR",
        "outputId": "023e8bda-358f-49f8-a890-27f24857d950"
      },
      "outputs": [
        {
          "output_type": "stream",
          "name": "stdout",
          "text": [
            "313/313 [==============================] - 1s 4ms/step - loss: 1.0606 - accuracy: 0.6379\n",
            "Test:\n",
            "Loss: 1.0605803728103638\n",
            "Accuracy: 0.6378999948501587\n"
          ]
        }
      ],
      "source": [
        "# 訓練結果\n",
        "loss, accuracy = model.evaluate(x_test, y_test)\n",
        "print('Test:')\n",
        "print('Loss:', loss)\n",
        "print('Accuracy:', accuracy)"
      ]
    },
    {
      "cell_type": "markdown",
      "source": [
        "# 捲積層的 Kernel"
      ],
      "metadata": {
        "id": "PlyLQix5koHx"
      }
    },
    {
      "cell_type": "code",
      "source": [
        "# 輸出捲積層的 Kernel\n",
        "model.layers[0].get_weights()[0][:, :, 0, :].transpose((2, 1, 0))"
      ],
      "metadata": {
        "colab": {
          "base_uri": "https://localhost:8080/"
        },
        "id": "ZdwzvR-m7d9q",
        "outputId": "2a310e21-4e26-47f2-88a7-10947bba3ec6"
      },
      "execution_count": 6,
      "outputs": [
        {
          "output_type": "execute_result",
          "data": {
            "text/plain": [
              "array([[[ 0.17989069,  0.03560186,  0.17690578],\n",
              "        [ 0.17488232, -0.32062584, -0.32466096],\n",
              "        [-0.18265557, -0.22679614, -0.20155272]],\n",
              "\n",
              "       [[ 0.1365082 ,  0.3500096 , -0.19382577],\n",
              "        [ 0.3238539 ,  0.27852535,  0.02050069],\n",
              "        [-0.09544826,  0.20642783,  0.02672616]],\n",
              "\n",
              "       [[ 0.3257345 , -0.09420446, -0.0393934 ],\n",
              "        [ 0.14013724,  0.03093108, -0.13225678],\n",
              "        [-0.28755552, -0.1188833 ,  0.32232234]],\n",
              "\n",
              "       [[-0.09183131,  0.14151601,  0.10228204],\n",
              "        [-0.21302095,  0.22739135, -0.1696033 ],\n",
              "        [-0.03204486, -0.10643927,  0.14921153]],\n",
              "\n",
              "       [[ 0.07323677, -0.21195613, -0.24596201],\n",
              "        [-0.00985811,  0.05720398,  0.0325974 ],\n",
              "        [ 0.293804  ,  0.19209564,  0.18616147]],\n",
              "\n",
              "       [[ 0.01826923, -0.44857898, -0.09977714],\n",
              "        [ 0.25623444, -0.23090765, -0.30135876],\n",
              "        [ 0.1992955 ,  0.3593259 , -0.00933613]],\n",
              "\n",
              "       [[ 0.10922879, -0.35313272,  0.11223694],\n",
              "        [ 0.18135805,  0.28242996, -0.3221697 ],\n",
              "        [-0.3437913 ,  0.04668437,  0.04073654]],\n",
              "\n",
              "       [[ 0.1703766 ,  0.23205186,  0.09345961],\n",
              "        [-0.21199667,  0.14538111, -0.01966392],\n",
              "        [-0.13300984, -0.11899455, -0.13862163]]], dtype=float32)"
            ]
          },
          "metadata": {},
          "execution_count": 6
        }
      ]
    },
    {
      "cell_type": "markdown",
      "source": [
        "# 運用捲積層得到的 Kernel 套用到一般圖片上\n",
        "拿 3 個 kernel 出來 套用到圖片上<br>\n",
        "就是...看看捲積層的 kernel 在幹嘛0.0"
      ],
      "metadata": {
        "id": "LnBPxNYMlRsx"
      }
    },
    {
      "cell_type": "code",
      "source": [
        "from PIL import Image\n",
        "import cv2\n",
        "\n",
        "def padding(img_name, img_w, img_h):\n",
        "    img = Image.open(img_name)\n",
        "    new_img = Image.new(\"RGB\", (img_w + 2, img_h + 2), \"White\")\n",
        "    new_img.paste(img, (1, 1))\n",
        "\n",
        "    return cv2.cvtColor(np.asarray(new_img), cv2.COLOR_RGB2BGR)\n",
        "\n",
        "def convolution(image_name, mask, img_w, img_h, out_name):\n",
        "    out_p = padding(image_name, img_w, img_h)\n",
        "    out_img = cv2.imread(image_name)        # 要輸出的圖，用 imread 只是為了取出影像格式\n",
        "\n",
        "    # 用 padding 後的圖跟 mask 做捲積，把每個 pixel 運算結果傳給輸出影像的對應位置\n",
        "    for i in range(1, img_h + 1):\n",
        "        for j in range(1, img_w + 1):\n",
        "          for k in range(3):\n",
        "              # cur 紀錄該 pixel 的捲積結果\n",
        "              cur = 0\n",
        "              cur += out_p[i - 1, j - 1, k] * mask[0][0] # 左上\n",
        "              cur += out_p[i - 1, j, k] * mask[0][1]     # 中上\n",
        "              cur += out_p[i - 1, j + 1, k] * mask[0][2] # 右上\n",
        "              cur += out_p[i, j - 1, k] * mask[1][0]     # 中左\n",
        "              cur += out_p[i, j, k] * mask[1][1]         # 正中\n",
        "              cur += out_p[i, j + 1, k] * mask[1][2]     # 中右\n",
        "              cur += out_p[i + 1, j - 1, k] * mask[2][0] # 左下\n",
        "              cur += out_p[i + 1, j, k] * mask[2][1]     # 中下\n",
        "              cur += out_p[i + 1, j + 1, k] * mask[2][2] # 右下\n",
        "\n",
        "              # 因為灰階是在 0 ~ 255 之間，超過的要把他們抓回來\n",
        "              if cur > 255:\n",
        "                  out_img[i - 1, j - 1, k] = 255\n",
        "              elif cur < 0:\n",
        "                  out_img[i - 1, j - 1, k] = 0\n",
        "              else:\n",
        "                  out_img[i - 1, j - 1, k] = int(cur)    # 這邊要把數值轉回整數\n",
        "    # 輸出影像\n",
        "    cv2.imwrite(out_name, out_img)\n",
        "\n",
        "k1 = model.layers[0].get_weights()[0][:, :, 0, :].transpose((2, 1, 0))[1]\n",
        "k2 = model.layers[0].get_weights()[0][:, :, 0, :].transpose((2, 1, 0))[2]\n",
        "k4 = model.layers[0].get_weights()[0][:, :, 0, :].transpose((2, 1, 0))[4]\n",
        "\n",
        "print(\"k1\", k1)\n",
        "print(\"k2\", k2)\n",
        "print(\"k4\", k4)\n",
        "convolution(\"NICO.jpg\", k1, 512, 512, \"out1.jpg\")\n",
        "convolution(\"NICO.jpg\", k2, 512, 512, \"out2.jpg\")\n",
        "convolution(\"NICO.jpg\", k4, 512, 512, \"out3.jpg\")"
      ],
      "metadata": {
        "colab": {
          "base_uri": "https://localhost:8080/"
        },
        "id": "SaxxdZmSld4Z",
        "outputId": "d12193c6-8a41-4d21-8ca4-c940fd18dfef"
      },
      "execution_count": 17,
      "outputs": [
        {
          "output_type": "stream",
          "name": "stdout",
          "text": [
            "k1 [[ 0.1365082   0.3500096  -0.19382577]\n",
            " [ 0.3238539   0.27852535  0.02050069]\n",
            " [-0.09544826  0.20642783  0.02672616]]\n",
            "k2 [[ 0.3257345  -0.09420446 -0.0393934 ]\n",
            " [ 0.14013724  0.03093108 -0.13225678]\n",
            " [-0.28755552 -0.1188833   0.32232234]]\n",
            "k4 [[ 0.07323677 -0.21195613 -0.24596201]\n",
            " [-0.00985811  0.05720398  0.0325974 ]\n",
            " [ 0.293804    0.19209564  0.18616147]]\n"
          ]
        }
      ]
    }
  ],
  "metadata": {
    "accelerator": "GPU",
    "colab": {
      "name": "cifar10_CNN.ipynb",
      "provenance": []
    },
    "kernelspec": {
      "display_name": "Python 3",
      "name": "python3"
    },
    "language_info": {
      "name": "python"
    }
  },
  "nbformat": 4,
  "nbformat_minor": 0
}